{
 "cells": [
  {
   "cell_type": "markdown",
   "metadata": {},
   "source": [
    "<H1>Sentiment Analysis: Amazon Reviews</H1>\n",
    "<H3>By Michael Klear</H3><br>\n",
    "This sentiment analysis project uses <a href='http://jmcauley.ucsd.edu/data/amazon/'>this dataset</a> of Amazon product reviews. I try to make predictions of star ratings based on content of review."
   ]
  },
  {
   "cell_type": "code",
   "execution_count": 1,
   "metadata": {},
   "outputs": [
    {
     "name": "stderr",
     "output_type": "stream",
     "text": [
      "/home/alliedtoasters/anaconda3/envs/dspy3/lib/python3.6/site-packages/sklearn/cross_validation.py:41: DeprecationWarning: This module was deprecated in version 0.18 in favor of the model_selection module into which all the refactored classes and functions are moved. Also note that the interface of the new CV iterators are different from that of this module. This module will be removed in 0.20.\n",
      "  \"This module will be removed in 0.20.\", DeprecationWarning)\n"
     ]
    }
   ],
   "source": [
    "import pandas as pd\n",
    "import numpy as np\n",
    "import matplotlib.pyplot as plt\n",
    "from sklearn.feature_extraction.text import TfidfVectorizer\n",
    "import scipy\n",
    "from scipy.sparse import coo_matrix\n",
    "import xgboost as xgb\n",
    "from sklearn.model_selection import cross_val_score"
   ]
  },
  {
   "cell_type": "code",
   "execution_count": 2,
   "metadata": {
    "collapsed": true
   },
   "outputs": [],
   "source": [
    "df = pd.read_json('./rVG5.json', lines=True)\n",
    "df = df.sample(frac=1, random_state=111)"
   ]
  },
  {
   "cell_type": "markdown",
   "metadata": {},
   "source": [
    "This is a simple dataset, with just a handful of important columns:"
   ]
  },
  {
   "cell_type": "code",
   "execution_count": 3,
   "metadata": {},
   "outputs": [
    {
     "data": {
      "text/html": [
       "<div>\n",
       "<style>\n",
       "    .dataframe thead tr:only-child th {\n",
       "        text-align: right;\n",
       "    }\n",
       "\n",
       "    .dataframe thead th {\n",
       "        text-align: left;\n",
       "    }\n",
       "\n",
       "    .dataframe tbody tr th {\n",
       "        vertical-align: top;\n",
       "    }\n",
       "</style>\n",
       "<table border=\"1\" class=\"dataframe\">\n",
       "  <thead>\n",
       "    <tr style=\"text-align: right;\">\n",
       "      <th></th>\n",
       "      <th>asin</th>\n",
       "      <th>helpful</th>\n",
       "      <th>overall</th>\n",
       "      <th>reviewText</th>\n",
       "      <th>reviewTime</th>\n",
       "      <th>reviewerID</th>\n",
       "      <th>reviewerName</th>\n",
       "      <th>summary</th>\n",
       "      <th>unixReviewTime</th>\n",
       "    </tr>\n",
       "  </thead>\n",
       "  <tbody>\n",
       "    <tr>\n",
       "      <th>133556</th>\n",
       "      <td>B002FQM5OG</td>\n",
       "      <td>[0, 0]</td>\n",
       "      <td>2</td>\n",
       "      <td>Even though I've had this kit for awhile, it d...</td>\n",
       "      <td>03 28, 2010</td>\n",
       "      <td>AKCZIJ6ZHE41D</td>\n",
       "      <td>Jarucia Jaycox \"~A Pink American\"</td>\n",
       "      <td>Not so Good Drum Kit</td>\n",
       "      <td>1269734400</td>\n",
       "    </tr>\n",
       "    <tr>\n",
       "      <th>211868</th>\n",
       "      <td>B009CCTSIM</td>\n",
       "      <td>[1, 1]</td>\n",
       "      <td>5</td>\n",
       "      <td>This thing is long enough to comfortably play ...</td>\n",
       "      <td>01 24, 2013</td>\n",
       "      <td>A1OXMAQIY6JUI9</td>\n",
       "      <td>J. Thompson</td>\n",
       "      <td>It's a piece of stretched copper... IT WORKS</td>\n",
       "      <td>1358985600</td>\n",
       "    </tr>\n",
       "  </tbody>\n",
       "</table>\n",
       "</div>"
      ],
      "text/plain": [
       "              asin helpful  overall  \\\n",
       "133556  B002FQM5OG  [0, 0]        2   \n",
       "211868  B009CCTSIM  [1, 1]        5   \n",
       "\n",
       "                                               reviewText   reviewTime  \\\n",
       "133556  Even though I've had this kit for awhile, it d...  03 28, 2010   \n",
       "211868  This thing is long enough to comfortably play ...  01 24, 2013   \n",
       "\n",
       "            reviewerID                       reviewerName  \\\n",
       "133556   AKCZIJ6ZHE41D  Jarucia Jaycox \"~A Pink American\"   \n",
       "211868  A1OXMAQIY6JUI9                        J. Thompson   \n",
       "\n",
       "                                             summary  unixReviewTime  \n",
       "133556                          Not so Good Drum Kit      1269734400  \n",
       "211868  It's a piece of stretched copper... IT WORKS      1358985600  "
      ]
     },
     "execution_count": 3,
     "metadata": {},
     "output_type": "execute_result"
    }
   ],
   "source": [
    "df.head(2)"
   ]
  },
  {
   "cell_type": "markdown",
   "metadata": {},
   "source": [
    "<H2>Outcome Variable:</H2>\n",
    "The goal is to classify \"positive\" and \"negative\" reviews based on the content of the review text. Since there are five ratings, I need to decide what star rating to count as positive and what star ratings to count as negative. Here's the ratings distribution:"
   ]
  },
  {
   "cell_type": "code",
   "execution_count": 4,
   "metadata": {},
   "outputs": [
    {
     "data": {
      "image/png": "[encoded data removed]",
      "text/plain": [
       "<matplotlib.figure.Figure at 0x7f6943f60c18>"
      ]
     },
     "metadata": {},
     "output_type": "display_data"
    }
   ],
   "source": [
    "df.overall.hist();\n",
    "plt.show();"
   ]
  },
  {
   "cell_type": "code",
   "execution_count": 5,
   "metadata": {},
   "outputs": [
    {
     "data": {
      "text/plain": [
       "\"I'm not sure which one I like more, this game or Yoshi's Cookie. Both have different rules of gameplay, but both are also challenging. I've always been a sucker for Tetris-style games (pieces fall down, you try to get rid of them) For a NES game, the controls and graphics were smooth. There's not much I can say that other reviewers haven't already said. If you like puzzle games, you should enjoy this.\""
      ]
     },
     "execution_count": 5,
     "metadata": {},
     "output_type": "execute_result"
    }
   ],
   "source": [
    "#A peek at a four star rating: clearly positive\n",
    "df[df.overall==4].iloc[7].reviewText"
   ]
  },
  {
   "cell_type": "markdown",
   "metadata": {},
   "source": [
    "Four and five star ratings are clearly positive, while three is unclear and often neutral. Based on the idea that 3 ratings don't usually encourage readers to purchase the product, I'll call all four and five star reviews \"positive,\" (1) and group all others as \"negative\" (or zero)."
   ]
  },
  {
   "cell_type": "code",
   "execution_count": 6,
   "metadata": {},
   "outputs": [
    {
     "name": "stdout",
     "output_type": "stream",
     "text": [
      "proportion of negative ratings:  0.123030459919\n"
     ]
    }
   ],
   "source": [
    "df['pos'] = np.where(df.overall > 2, 1, 0)\n",
    "class_imb = 1-(df.pos.sum()/len(df))\n",
    "print('proportion of negative ratings: ', class_imb)"
   ]
  },
  {
   "cell_type": "markdown",
   "metadata": {},
   "source": [
    "We see that most ratings, about 88%, are positive. This gives us a slight class imbalance that could tip our model in favor of positive ratings.<br>\n",
    "<h2>Features</h2><br>\n",
    "I build a few features."
   ]
  },
  {
   "cell_type": "markdown",
   "metadata": {},
   "source": [
    "The tfidf vectorizer helps us impliment a \"bag of words\" model of the text in reviews:"
   ]
  },
  {
   "cell_type": "code",
   "execution_count": 7,
   "metadata": {},
   "outputs": [
    {
     "data": {
      "text/plain": [
       "TfidfVectorizer(analyzer='word', binary=False, decode_error='strict',\n",
       "        dtype=<class 'numpy.int64'>, encoding='utf-8', input='content',\n",
       "        lowercase=True, max_df=0.9, max_features=None, min_df=1e-05,\n",
       "        ngram_range=(1, 2), norm='l2', preprocessor=None, smooth_idf=True,\n",
       "        stop_words='english', strip_accents=None, sublinear_tf=False,\n",
       "        token_pattern='(?u)\\\\b\\\\w\\\\w+\\\\b', tokenizer=None, use_idf=True,\n",
       "        vocabulary=None)"
      ]
     },
     "execution_count": 7,
     "metadata": {},
     "output_type": "execute_result"
    }
   ],
   "source": [
    "#Initialize and train vectorizer on corpus\n",
    "#Parameters chosen after some tinkering. More tinkering can probably improve model performance.\n",
    "tv = TfidfVectorizer(ngram_range=(1, 2), stop_words='english', min_df=.00001, max_df=.9)\n",
    "tv.fit(df.reviewText)"
   ]
  },
  {
   "cell_type": "markdown",
   "metadata": {},
   "source": [
    "I'll also hand build some features:"
   ]
  },
  {
   "cell_type": "code",
   "execution_count": 8,
   "metadata": {},
   "outputs": [
    {
     "data": {
      "image/png": "[encoded data removed]",
      "text/plain": [
       "<matplotlib.figure.Figure at 0x7f692f032b38>"
      ]
     },
     "metadata": {},
     "output_type": "display_data"
    }
   ],
   "source": [
    "#Convert text to lower case characters\n",
    "df['reviewText'] = df.reviewText.str.lower()\n",
    "\n",
    "#Measure the length of review text in number of characters\n",
    "df['review_length'] = df.reviewText.apply(len)\n",
    "\n",
    "#Record the number of people who found review helpful\n",
    "df['helpful_clicks'] = df.helpful.apply(lambda x: x[1])\n",
    "\n",
    "def get_help_rating(helpful):\n",
    "    \"\"\"Rates helpfulness based on overall number of clicks. Returns zero if zero\n",
    "    total clicks. If every click found unhelpful, returns negative value (number of unhelpful\n",
    "    clicks)\n",
    "    \"\"\"\n",
    "    if helpful[1] == 0:\n",
    "        return 0\n",
    "    elif helpful[1] > 0:\n",
    "        if helpful[0] == 0:\n",
    "            return -helpful[1]\n",
    "        else:\n",
    "            return helpful[0]/helpful[1]\n",
    "    \n",
    "#Get helpful rating\n",
    "df['helpful_rating'] = df.helpful.apply(get_help_rating)\n",
    "#Get length of summary\n",
    "df['summary_length'] = df.summary.apply(len)\n",
    "\n",
    "df.review_length.hist(bins=100);\n",
    "plt.title('Distribution of review lengths');\n",
    "plt.xlabel('Review Length (characters)');\n",
    "plt.show(); #See the distribution of review lengths"
   ]
  },
  {
   "cell_type": "code",
   "execution_count": 9,
   "metadata": {},
   "outputs": [
    {
     "data": {
      "text/plain": [
       "<231780x1192329 sparse matrix of type '<class 'numpy.float64'>'\n",
       "\twith 30091877 stored elements in Compressed Sparse Row format>"
      ]
     },
     "execution_count": 9,
     "metadata": {},
     "output_type": "execute_result"
    }
   ],
   "source": [
    "features = tv.transform(df.reviewText)\n",
    "features #See how many features we've got... Over one million!!"
   ]
  },
  {
   "cell_type": "markdown",
   "metadata": {},
   "source": [
    "<H2>Holdout Group</H2><br>\n",
    "To evaluate our model, we'll reserve 20% of our samples in a holdout group."
   ]
  },
  {
   "cell_type": "code",
   "execution_count": 10,
   "metadata": {
    "collapsed": true
   },
   "outputs": [],
   "source": [
    "cutoff = int(.8 * len(df))\n",
    "\n",
    "ft = [                #Pick hand-built features\n",
    "    'review_length',\n",
    "    'helpful_clicks',\n",
    "    'helpful_rating',\n",
    "    'summary_length'\n",
    "]\n",
    "\n",
    "\n",
    "train = df[:cutoff]\n",
    "ft_train = scipy.sparse.hstack((features[:cutoff], np.array(df[ft][:cutoff]))) #Add my features to sparse matrix\n",
    "\n",
    "test = df[cutoff:]\n",
    "ft_test = scipy.sparse.hstack((features[cutoff:], np.array(df[ft][cutoff:]))) #Repeat for training set\n",
    "\n",
    "#Define outcome variable\n",
    "Y_train = train.pos\n",
    "Y_test = test.pos"
   ]
  },
  {
   "cell_type": "code",
   "execution_count": 11,
   "metadata": {},
   "outputs": [
    {
     "name": "stdout",
     "output_type": "stream",
     "text": [
      "test set imbalance:  0.876779704893\n"
     ]
    }
   ],
   "source": [
    "#Take a look at imbalance of test set for evaluation comparison\n",
    "print('test set imbalance: ', Y_test.sum()/len(Y_test))"
   ]
  },
  {
   "cell_type": "markdown",
   "metadata": {},
   "source": [
    "<H2>Model: XGBoost</H2><br>\n",
    "XGBoost is a great algorithm for this problem. It can efficiently work with the sparse features and pick up on subtle interactions between features."
   ]
  },
  {
   "cell_type": "code",
   "execution_count": 14,
   "metadata": {
    "collapsed": true
   },
   "outputs": [],
   "source": [
    "#Convert data to xgb datamatrices\n",
    "dtrain = xgb.DMatrix(ft_train, label=Y_train)\n",
    "dtest = xgb.DMatrix(ft_test, label=Y_test)"
   ]
  },
  {
   "cell_type": "code",
   "execution_count": 15,
   "metadata": {},
   "outputs": [
    {
     "name": "stdout",
     "output_type": "stream",
     "text": [
      "pos        0       1\n",
      "row_0               \n",
      "0      22768    4466\n",
      "1         36  158154\n",
      "0.975720510829\n",
      "pos       0      1\n",
      "row_0             \n",
      "0      3933   2679\n",
      "1      1779  37965\n",
      "0.90383121926\n"
     ]
    }
   ],
   "source": [
    "#Set up our model for training. Parameters chosen after much tinkering.\n",
    "param = {\n",
    "    'max_depth': 7, \n",
    "    'eta': 1,  #Notice high eta and max depth. Helps work with vast number of features\n",
    "    'silent': 0, \n",
    "    'objective': \n",
    "    'binary:logistic', \n",
    "    'scale_pos_weight': (class_imb),  #Tell model about class imbalance\n",
    "    'nthread':4,\n",
    "    'eval_metric':'error'\n",
    "}\n",
    "\n",
    "plst = param.items()\n",
    "num_round = 500\n",
    "evallist = [(dtest, 'eval'), (dtrain, 'train')]\n",
    "bst = xgb.train(plst, dtrain, num_round, evallist, verbose_eval=False) #We can watch outputs to see model slowly optimize.\n",
    "#Breaks 90% accuracy at around 410 iterations, with vanishing returns around 500.\n",
    "\n",
    "Y_ = np.where(bst.predict(dtrain)>.5, 1, 0)\n",
    "tb = pd.crosstab(Y_, Y_train)\n",
    "print(tb)\n",
    "print((tb.iloc[0, 0]+tb.iloc[1, 1])/tb.sum().sum())\n",
    "\n",
    "Y_ = np.where(bst.predict(dtest)>.5, 1, 0)\n",
    "tb = pd.crosstab(Y_, Y_test)\n",
    "print(tb)\n",
    "print((tb.iloc[0, 0]+tb.iloc[1, 1])/tb.sum().sum())"
   ]
  },
  {
   "cell_type": "code",
   "execution_count": 16,
   "metadata": {},
   "outputs": [
    {
     "name": "stdout",
     "output_type": "stream",
     "text": [
      "Training Set Performance: \n",
      "\n",
      "pos        0       1\n",
      "row_0               \n",
      "0      22768    4466\n",
      "1         36  158154\n",
      "accuracy:  0.975720510829\n",
      "Test Set Performance: \n",
      "\n",
      "pos       0      1\n",
      "row_0             \n",
      "0      3933   2679\n",
      "1      1779  37965\n",
      "accuracy:  0.90383121926\n"
     ]
    }
   ],
   "source": [
    "Y_ = np.where(bst.predict(dtrain)>.5, 1, 0)\n",
    "tb = pd.crosstab(Y_, Y_train)\n",
    "print('Training Set Performance: \\n')\n",
    "print(tb)\n",
    "print('accuracy: ', (tb.iloc[0, 0]+tb.iloc[1, 1])/tb.sum().sum())\n",
    "\n",
    "Y_ = np.where(bst.predict(dtest)>.5, 1, 0)\n",
    "tb = pd.crosstab(Y_, Y_test)\n",
    "print('Test Set Performance: \\n')\n",
    "print(tb)\n",
    "print('accuracy: ', (tb.iloc[0, 0]+tb.iloc[1, 1])/tb.sum().sum())"
   ]
  },
  {
   "cell_type": "markdown",
   "metadata": {
    "collapsed": true
   },
   "source": [
    "<H2>Results Interpretation</H2><br>\n",
    "The model does a decent job predicting sentiment; at least it improves over random guessing. There's a mix of type I and type II errors, and we coul work to reduce either type of error based on our priorities as a business (for example, Amazon) to achieve a certain outcome."
   ]
  },
  {
   "cell_type": "markdown",
   "metadata": {
    "collapsed": true
   },
   "source": [
    "A quick look at feature importance:"
   ]
  },
  {
   "cell_type": "code",
   "execution_count": 32,
   "metadata": {},
   "outputs": [],
   "source": [
    "#Grab top 1000 most important features\n",
    "ft_imp = bst.get_fscore()\n",
    "ft_imps = pd.DataFrame(columns=['feature', 'importance'], index=range(0, len(ft_imp)))\n",
    "ft_imps['feature'] = ft_imp.keys()\n",
    "ft_imps['importance'] = ft_imp.values()\n",
    "top_1000 = ft_imps.iloc[:1000]"
   ]
  },
  {
   "cell_type": "code",
   "execution_count": 44,
   "metadata": {},
   "outputs": [
    {
     "name": "stderr",
     "output_type": "stream",
     "text": [
      "/home/alliedtoasters/anaconda3/envs/dspy3/lib/python3.6/site-packages/ipykernel/__main__.py:11: SettingWithCopyWarning: \n",
      "A value is trying to be set on a copy of a slice from a DataFrame.\n",
      "Try using .loc[row_indexer,col_indexer] = value instead\n",
      "\n",
      "See the caveats in the documentation: http://pandas.pydata.org/pandas-docs/stable/indexing.html#indexing-view-versus-copy\n"
     ]
    }
   ],
   "source": [
    "#Look up feature names\n",
    "names = tv.get_feature_names()\n",
    "names += ft\n",
    "def get_feature_name(feature_, names=names):\n",
    "    \"\"\"Takes a feature from xgboost feature importance output\n",
    "    (format f####### where ####### is feature number) and\n",
    "    finds it.\n",
    "    \"\"\"\n",
    "    num = int(feature_[1:])a\n",
    "    return names[num]\n",
    "\n",
    "top_1000['name'] = top_1000.feature.apply(get_feature_name)"
   ]
  },
  {
   "cell_type": "code",
   "execution_count": 48,
   "metadata": {},
   "outputs": [
    {
     "data": {
      "text/html": [
       "<div>\n",
       "<style>\n",
       "    .dataframe thead tr:only-child th {\n",
       "        text-align: right;\n",
       "    }\n",
       "\n",
       "    .dataframe thead th {\n",
       "        text-align: left;\n",
       "    }\n",
       "\n",
       "    .dataframe tbody tr th {\n",
       "        vertical-align: top;\n",
       "    }\n",
       "</style>\n",
       "<table border=\"1\" class=\"dataframe\">\n",
       "  <thead>\n",
       "    <tr style=\"text-align: right;\">\n",
       "      <th></th>\n",
       "      <th>feature</th>\n",
       "      <th>importance</th>\n",
       "      <th>name</th>\n",
       "    </tr>\n",
       "  </thead>\n",
       "  <tbody>\n",
       "    <tr>\n",
       "      <th>9</th>\n",
       "      <td>f416639</td>\n",
       "      <td>546</td>\n",
       "      <td>game</td>\n",
       "    </tr>\n",
       "    <tr>\n",
       "      <th>0</th>\n",
       "      <td>f1192331</td>\n",
       "      <td>495</td>\n",
       "      <td>helpful_rating</td>\n",
       "    </tr>\n",
       "    <tr>\n",
       "      <th>78</th>\n",
       "      <td>f1192332</td>\n",
       "      <td>412</td>\n",
       "      <td>summary_length</td>\n",
       "    </tr>\n",
       "    <tr>\n",
       "      <th>1</th>\n",
       "      <td>f1192330</td>\n",
       "      <td>368</td>\n",
       "      <td>helpful_clicks</td>\n",
       "    </tr>\n",
       "    <tr>\n",
       "      <th>50</th>\n",
       "      <td>f1192329</td>\n",
       "      <td>365</td>\n",
       "      <td>review_length</td>\n",
       "    </tr>\n",
       "    <tr>\n",
       "      <th>45</th>\n",
       "      <td>f604883</td>\n",
       "      <td>306</td>\n",
       "      <td>like</td>\n",
       "    </tr>\n",
       "    <tr>\n",
       "      <th>49</th>\n",
       "      <td>f562874</td>\n",
       "      <td>261</td>\n",
       "      <td>just</td>\n",
       "    </tr>\n",
       "    <tr>\n",
       "      <th>12</th>\n",
       "      <td>f432218</td>\n",
       "      <td>209</td>\n",
       "      <td>games</td>\n",
       "    </tr>\n",
       "    <tr>\n",
       "      <th>76</th>\n",
       "      <td>f784132</td>\n",
       "      <td>192</td>\n",
       "      <td>play</td>\n",
       "    </tr>\n",
       "    <tr>\n",
       "      <th>31</th>\n",
       "      <td>f457319</td>\n",
       "      <td>174</td>\n",
       "      <td>good</td>\n",
       "    </tr>\n",
       "    <tr>\n",
       "      <th>100</th>\n",
       "      <td>f863745</td>\n",
       "      <td>149</td>\n",
       "      <td>really</td>\n",
       "    </tr>\n",
       "    <tr>\n",
       "      <th>11</th>\n",
       "      <td>f410313</td>\n",
       "      <td>145</td>\n",
       "      <td>fun</td>\n",
       "    </tr>\n",
       "    <tr>\n",
       "      <th>13</th>\n",
       "      <td>f1063310</td>\n",
       "      <td>125</td>\n",
       "      <td>time</td>\n",
       "    </tr>\n",
       "    <tr>\n",
       "      <th>2</th>\n",
       "      <td>f469056</td>\n",
       "      <td>114</td>\n",
       "      <td>great</td>\n",
       "    </tr>\n",
       "    <tr>\n",
       "      <th>86</th>\n",
       "      <td>f466151</td>\n",
       "      <td>113</td>\n",
       "      <td>graphics</td>\n",
       "    </tr>\n",
       "    <tr>\n",
       "      <th>23</th>\n",
       "      <td>f292310</td>\n",
       "      <td>106</td>\n",
       "      <td>don</td>\n",
       "    </tr>\n",
       "    <tr>\n",
       "      <th>52</th>\n",
       "      <td>f102931</td>\n",
       "      <td>92</td>\n",
       "      <td>better</td>\n",
       "    </tr>\n",
       "    <tr>\n",
       "      <th>65</th>\n",
       "      <td>f1150062</td>\n",
       "      <td>83</td>\n",
       "      <td>way</td>\n",
       "    </tr>\n",
       "    <tr>\n",
       "      <th>191</th>\n",
       "      <td>f795269</td>\n",
       "      <td>80</td>\n",
       "      <td>playing</td>\n",
       "    </tr>\n",
       "    <tr>\n",
       "      <th>141</th>\n",
       "      <td>f713817</td>\n",
       "      <td>65</td>\n",
       "      <td>new</td>\n",
       "    </tr>\n",
       "    <tr>\n",
       "      <th>84</th>\n",
       "      <td>f138720</td>\n",
       "      <td>54</td>\n",
       "      <td>buy</td>\n",
       "    </tr>\n",
       "    <tr>\n",
       "      <th>170</th>\n",
       "      <td>f789066</td>\n",
       "      <td>54</td>\n",
       "      <td>played</td>\n",
       "    </tr>\n",
       "    <tr>\n",
       "      <th>110</th>\n",
       "      <td>f461722</td>\n",
       "      <td>54</td>\n",
       "      <td>got</td>\n",
       "    </tr>\n",
       "    <tr>\n",
       "      <th>34</th>\n",
       "      <td>f82117</td>\n",
       "      <td>53</td>\n",
       "      <td>bad</td>\n",
       "    </tr>\n",
       "    <tr>\n",
       "      <th>51</th>\n",
       "      <td>f1140925</td>\n",
       "      <td>52</td>\n",
       "      <td>want</td>\n",
       "    </tr>\n",
       "    <tr>\n",
       "      <th>94</th>\n",
       "      <td>f648191</td>\n",
       "      <td>52</td>\n",
       "      <td>make</td>\n",
       "    </tr>\n",
       "    <tr>\n",
       "      <th>53</th>\n",
       "      <td>f1010008</td>\n",
       "      <td>48</td>\n",
       "      <td>story</td>\n",
       "    </tr>\n",
       "    <tr>\n",
       "      <th>90</th>\n",
       "      <td>f1125493</td>\n",
       "      <td>48</td>\n",
       "      <td>ve</td>\n",
       "    </tr>\n",
       "    <tr>\n",
       "      <th>116</th>\n",
       "      <td>f766664</td>\n",
       "      <td>47</td>\n",
       "      <td>people</td>\n",
       "    </tr>\n",
       "    <tr>\n",
       "      <th>3</th>\n",
       "      <td>f100539</td>\n",
       "      <td>46</td>\n",
       "      <td>best</td>\n",
       "    </tr>\n",
       "    <tr>\n",
       "      <th>21</th>\n",
       "      <td>f619184</td>\n",
       "      <td>46</td>\n",
       "      <td>little</td>\n",
       "    </tr>\n",
       "    <tr>\n",
       "      <th>131</th>\n",
       "      <td>f1112899</td>\n",
       "      <td>44</td>\n",
       "      <td>use</td>\n",
       "    </tr>\n",
       "    <tr>\n",
       "      <th>39</th>\n",
       "      <td>f818056</td>\n",
       "      <td>44</td>\n",
       "      <td>pretty</td>\n",
       "    </tr>\n",
       "    <tr>\n",
       "      <th>73</th>\n",
       "      <td>f635946</td>\n",
       "      <td>42</td>\n",
       "      <td>lot</td>\n",
       "    </tr>\n",
       "    <tr>\n",
       "      <th>140</th>\n",
       "      <td>f270709</td>\n",
       "      <td>41</td>\n",
       "      <td>did</td>\n",
       "    </tr>\n",
       "    <tr>\n",
       "      <th>296</th>\n",
       "      <td>f1055965</td>\n",
       "      <td>40</td>\n",
       "      <td>think</td>\n",
       "    </tr>\n",
       "    <tr>\n",
       "      <th>93</th>\n",
       "      <td>f1051892</td>\n",
       "      <td>38</td>\n",
       "      <td>thing</td>\n",
       "    </tr>\n",
       "    <tr>\n",
       "      <th>203</th>\n",
       "      <td>f122267</td>\n",
       "      <td>36</td>\n",
       "      <td>bought</td>\n",
       "    </tr>\n",
       "    <tr>\n",
       "      <th>152</th>\n",
       "      <td>f428458</td>\n",
       "      <td>34</td>\n",
       "      <td>gameplay</td>\n",
       "    </tr>\n",
       "    <tr>\n",
       "      <th>54</th>\n",
       "      <td>f1171386</td>\n",
       "      <td>34</td>\n",
       "      <td>work</td>\n",
       "    </tr>\n",
       "    <tr>\n",
       "      <th>150</th>\n",
       "      <td>f578552</td>\n",
       "      <td>33</td>\n",
       "      <td>know</td>\n",
       "    </tr>\n",
       "    <tr>\n",
       "      <th>56</th>\n",
       "      <td>f272450</td>\n",
       "      <td>33</td>\n",
       "      <td>didn</td>\n",
       "    </tr>\n",
       "    <tr>\n",
       "      <th>214</th>\n",
       "      <td>f453946</td>\n",
       "      <td>33</td>\n",
       "      <td>going</td>\n",
       "    </tr>\n",
       "    <tr>\n",
       "      <th>255</th>\n",
       "      <td>f489071</td>\n",
       "      <td>32</td>\n",
       "      <td>hard</td>\n",
       "    </tr>\n",
       "    <tr>\n",
       "      <th>271</th>\n",
       "      <td>f167844</td>\n",
       "      <td>30</td>\n",
       "      <td>characters</td>\n",
       "    </tr>\n",
       "    <tr>\n",
       "      <th>41</th>\n",
       "      <td>f623072</td>\n",
       "      <td>30</td>\n",
       "      <td>ll</td>\n",
       "    </tr>\n",
       "    <tr>\n",
       "      <th>66</th>\n",
       "      <td>f1067881</td>\n",
       "      <td>29</td>\n",
       "      <td>times</td>\n",
       "    </tr>\n",
       "    <tr>\n",
       "      <th>102</th>\n",
       "      <td>f1178754</td>\n",
       "      <td>28</td>\n",
       "      <td>worth</td>\n",
       "    </tr>\n",
       "    <tr>\n",
       "      <th>160</th>\n",
       "      <td>f374856</td>\n",
       "      <td>28</td>\n",
       "      <td>feel</td>\n",
       "    </tr>\n",
       "    <tr>\n",
       "      <th>247</th>\n",
       "      <td>f915538</td>\n",
       "      <td>28</td>\n",
       "      <td>say</td>\n",
       "    </tr>\n",
       "  </tbody>\n",
       "</table>\n",
       "</div>"
      ],
      "text/plain": [
       "      feature  importance            name\n",
       "9     f416639         546            game\n",
       "0    f1192331         495  helpful_rating\n",
       "78   f1192332         412  summary_length\n",
       "1    f1192330         368  helpful_clicks\n",
       "50   f1192329         365   review_length\n",
       "45    f604883         306            like\n",
       "49    f562874         261            just\n",
       "12    f432218         209           games\n",
       "76    f784132         192            play\n",
       "31    f457319         174            good\n",
       "100   f863745         149          really\n",
       "11    f410313         145             fun\n",
       "13   f1063310         125            time\n",
       "2     f469056         114           great\n",
       "86    f466151         113        graphics\n",
       "23    f292310         106             don\n",
       "52    f102931          92          better\n",
       "65   f1150062          83             way\n",
       "191   f795269          80         playing\n",
       "141   f713817          65             new\n",
       "84    f138720          54             buy\n",
       "170   f789066          54          played\n",
       "110   f461722          54             got\n",
       "34     f82117          53             bad\n",
       "51   f1140925          52            want\n",
       "94    f648191          52            make\n",
       "53   f1010008          48           story\n",
       "90   f1125493          48              ve\n",
       "116   f766664          47          people\n",
       "3     f100539          46            best\n",
       "21    f619184          46          little\n",
       "131  f1112899          44             use\n",
       "39    f818056          44          pretty\n",
       "73    f635946          42             lot\n",
       "140   f270709          41             did\n",
       "296  f1055965          40           think\n",
       "93   f1051892          38           thing\n",
       "203   f122267          36          bought\n",
       "152   f428458          34        gameplay\n",
       "54   f1171386          34            work\n",
       "150   f578552          33            know\n",
       "56    f272450          33            didn\n",
       "214   f453946          33           going\n",
       "255   f489071          32            hard\n",
       "271   f167844          30      characters\n",
       "41    f623072          30              ll\n",
       "66   f1067881          29           times\n",
       "102  f1178754          28           worth\n",
       "160   f374856          28            feel\n",
       "247   f915538          28             say"
      ]
     },
     "execution_count": 48,
     "metadata": {},
     "output_type": "execute_result"
    }
   ],
   "source": [
    "#Take a look\n",
    "top_1000.sort_values('importance', ascending=False).head(50)"
   ]
  },
  {
   "cell_type": "markdown",
   "metadata": {},
   "source": [
    "Four of the top five most important features are my very own, hand-built ones! That's great to see. Surprisingly, the word \"game\" makes the most important feature. It's kind of strange because it's a word I'd expect to see in almost every review, but I set the maximum frequency cutoff to 90% in my vectorizor which means it occurs in less than 90% of reviews."
   ]
  },
  {
   "cell_type": "code",
   "execution_count": null,
   "metadata": {
    "collapsed": true
   },
   "outputs": [],
   "source": []
  }
 ],
 "metadata": {
  "kernelspec": {
   "display_name": "Environment (conda_dspy3)",
   "language": "python",
   "name": "conda_dspy3"
  }
 },
 "nbformat": 4,
 "nbformat_minor": 2
}
