{
 "cells": [
  {
   "cell_type": "code",
   "execution_count": 1,
   "metadata": {},
   "outputs": [
    {
     "name": "stderr",
     "output_type": "stream",
     "text": [
      "/home/alliedtoasters/anaconda3/envs/dspy3/lib/python3.6/site-packages/sklearn/cross_validation.py:41: DeprecationWarning: This module was deprecated in version 0.18 in favor of the model_selection module into which all the refactored classes and functions are moved. Also note that the interface of the new CV iterators are different from that of this module. This module will be removed in 0.20.\n",
      "  \"This module will be removed in 0.20.\", DeprecationWarning)\n"
     ]
    }
   ],
   "source": [
    "import pandas as pd\n",
    "import numpy as np\n",
    "import matplotlib.pyplot as plt\n",
    "from sklearn.feature_extraction.text import TfidfVectorizer\n",
    "import scipy\n",
    "from scipy.sparse import coo_matrix\n",
    "import xgboost as xgb\n",
    "from sklearn.model_selection import cross_val_score"
   ]
  },
  {
   "cell_type": "code",
   "execution_count": 2,
   "metadata": {
    "collapsed": true
   },
   "outputs": [],
   "source": [
    "df = pd.read_json('./rVG5.json', lines=True)\n",
    "df = df.sample(frac=1, random_state=111)"
   ]
  },
  {
   "cell_type": "code",
   "execution_count": 3,
   "metadata": {},
   "outputs": [
    {
     "data": {
      "text/html": [
       "<div>\n",
       "<style>\n",
       "    .dataframe thead tr:only-child th {\n",
       "        text-align: right;\n",
       "    }\n",
       "\n",
       "    .dataframe thead th {\n",
       "        text-align: left;\n",
       "    }\n",
       "\n",
       "    .dataframe tbody tr th {\n",
       "        vertical-align: top;\n",
       "    }\n",
       "</style>\n",
       "<table border=\"1\" class=\"dataframe\">\n",
       "  <thead>\n",
       "    <tr style=\"text-align: right;\">\n",
       "      <th></th>\n",
       "      <th>asin</th>\n",
       "      <th>helpful</th>\n",
       "      <th>overall</th>\n",
       "      <th>reviewText</th>\n",
       "      <th>reviewTime</th>\n",
       "      <th>reviewerID</th>\n",
       "      <th>reviewerName</th>\n",
       "      <th>summary</th>\n",
       "      <th>unixReviewTime</th>\n",
       "    </tr>\n",
       "  </thead>\n",
       "  <tbody>\n",
       "    <tr>\n",
       "      <th>133556</th>\n",
       "      <td>B002FQM5OG</td>\n",
       "      <td>[0, 0]</td>\n",
       "      <td>2</td>\n",
       "      <td>Even though I've had this kit for awhile, it d...</td>\n",
       "      <td>03 28, 2010</td>\n",
       "      <td>AKCZIJ6ZHE41D</td>\n",
       "      <td>Jarucia Jaycox \"~A Pink American\"</td>\n",
       "      <td>Not so Good Drum Kit</td>\n",
       "      <td>1269734400</td>\n",
       "    </tr>\n",
       "    <tr>\n",
       "      <th>211868</th>\n",
       "      <td>B009CCTSIM</td>\n",
       "      <td>[1, 1]</td>\n",
       "      <td>5</td>\n",
       "      <td>This thing is long enough to comfortably play ...</td>\n",
       "      <td>01 24, 2013</td>\n",
       "      <td>A1OXMAQIY6JUI9</td>\n",
       "      <td>J. Thompson</td>\n",
       "      <td>It's a piece of stretched copper... IT WORKS</td>\n",
       "      <td>1358985600</td>\n",
       "    </tr>\n",
       "    <tr>\n",
       "      <th>195170</th>\n",
       "      <td>B006BEZQRG</td>\n",
       "      <td>[3, 9]</td>\n",
       "      <td>3</td>\n",
       "      <td>My son really enjoyed the game, it worked well...</td>\n",
       "      <td>03 28, 2012</td>\n",
       "      <td>A31IF5TD2TMSH3</td>\n",
       "      <td>Heather Brown</td>\n",
       "      <td>Good But Pricey</td>\n",
       "      <td>1332892800</td>\n",
       "    </tr>\n",
       "    <tr>\n",
       "      <th>52069</th>\n",
       "      <td>B0006B0O9U</td>\n",
       "      <td>[3, 3]</td>\n",
       "      <td>4</td>\n",
       "      <td>I really enjoyed this game!  There are many di...</td>\n",
       "      <td>11 20, 2005</td>\n",
       "      <td>A1I1SYNU6R6XGP</td>\n",
       "      <td>Fluffychicken \"The almighty overlord\"</td>\n",
       "      <td>Very Good</td>\n",
       "      <td>1132444800</td>\n",
       "    </tr>\n",
       "    <tr>\n",
       "      <th>223484</th>\n",
       "      <td>B00CYNTHA0</td>\n",
       "      <td>[1, 2]</td>\n",
       "      <td>1</td>\n",
       "      <td>This game looks alright.  Some aspects of the ...</td>\n",
       "      <td>06 12, 2014</td>\n",
       "      <td>A26MZ8J9S58O57</td>\n",
       "      <td>johnthejanitor</td>\n",
       "      <td>Blows</td>\n",
       "      <td>1402531200</td>\n",
       "    </tr>\n",
       "  </tbody>\n",
       "</table>\n",
       "</div>"
      ],
      "text/plain": [
       "              asin helpful  overall  \\\n",
       "133556  B002FQM5OG  [0, 0]        2   \n",
       "211868  B009CCTSIM  [1, 1]        5   \n",
       "195170  B006BEZQRG  [3, 9]        3   \n",
       "52069   B0006B0O9U  [3, 3]        4   \n",
       "223484  B00CYNTHA0  [1, 2]        1   \n",
       "\n",
       "                                               reviewText   reviewTime  \\\n",
       "133556  Even though I've had this kit for awhile, it d...  03 28, 2010   \n",
       "211868  This thing is long enough to comfortably play ...  01 24, 2013   \n",
       "195170  My son really enjoyed the game, it worked well...  03 28, 2012   \n",
       "52069   I really enjoyed this game!  There are many di...  11 20, 2005   \n",
       "223484  This game looks alright.  Some aspects of the ...  06 12, 2014   \n",
       "\n",
       "            reviewerID                           reviewerName  \\\n",
       "133556   AKCZIJ6ZHE41D      Jarucia Jaycox \"~A Pink American\"   \n",
       "211868  A1OXMAQIY6JUI9                            J. Thompson   \n",
       "195170  A31IF5TD2TMSH3                          Heather Brown   \n",
       "52069   A1I1SYNU6R6XGP  Fluffychicken \"The almighty overlord\"   \n",
       "223484  A26MZ8J9S58O57                         johnthejanitor   \n",
       "\n",
       "                                             summary  unixReviewTime  \n",
       "133556                          Not so Good Drum Kit      1269734400  \n",
       "211868  It's a piece of stretched copper... IT WORKS      1358985600  \n",
       "195170                               Good But Pricey      1332892800  \n",
       "52069                                      Very Good      1132444800  \n",
       "223484                                         Blows      1402531200  "
      ]
     },
     "execution_count": 3,
     "metadata": {},
     "output_type": "execute_result"
    }
   ],
   "source": [
    "df.head()"
   ]
  },
  {
   "cell_type": "code",
   "execution_count": 4,
   "metadata": {},
   "outputs": [
    {
     "data": {
      "image/png": "[encoded data removed]",
      "text/plain": [
       "<matplotlib.figure.Figure at 0x7fa2a87c1dd8>"
      ]
     },
     "metadata": {},
     "output_type": "display_data"
    }
   ],
   "source": [
    "df.overall.hist();\n",
    "plt.show();"
   ]
  },
  {
   "cell_type": "code",
   "execution_count": 5,
   "metadata": {},
   "outputs": [
    {
     "data": {
      "text/plain": [
       "\"I'm not sure which one I like more, this game or Yoshi's Cookie. Both have different rules of gameplay, but both are also challenging. I've always been a sucker for Tetris-style games (pieces fall down, you try to get rid of them) For a NES game, the controls and graphics were smooth. There's not much I can say that other reviewers haven't already said. If you like puzzle games, you should enjoy this.\""
      ]
     },
     "execution_count": 5,
     "metadata": {},
     "output_type": "execute_result"
    }
   ],
   "source": [
    "df[df.overall==4].iloc[7].reviewText"
   ]
  },
  {
   "cell_type": "code",
   "execution_count": 6,
   "metadata": {},
   "outputs": [
    {
     "name": "stdout",
     "output_type": "stream",
     "text": [
      "0.123030459919\n"
     ]
    }
   ],
   "source": [
    "df['pos'] = np.where(df.overall > 2, 1, 0)\n",
    "class_imb = 1-(df.pos.sum()/len(df))\n",
    "print(class_imb)"
   ]
  },
  {
   "cell_type": "code",
   "execution_count": 7,
   "metadata": {
    "collapsed": true
   },
   "outputs": [],
   "source": [
    "df['reviewText'] = df.reviewText.str.lower()"
   ]
  },
  {
   "cell_type": "code",
   "execution_count": 8,
   "metadata": {},
   "outputs": [
    {
     "data": {
      "text/plain": [
       "TfidfVectorizer(analyzer='word', binary=False, decode_error='strict',\n",
       "        dtype=<class 'numpy.int64'>, encoding='utf-8', input='content',\n",
       "        lowercase=True, max_df=0.9, max_features=None, min_df=1e-05,\n",
       "        ngram_range=(1, 2), norm='l2', preprocessor=None, smooth_idf=True,\n",
       "        stop_words='english', strip_accents=None, sublinear_tf=False,\n",
       "        token_pattern='(?u)\\\\b\\\\w\\\\w+\\\\b', tokenizer=None, use_idf=True,\n",
       "        vocabulary=None)"
      ]
     },
     "execution_count": 8,
     "metadata": {},
     "output_type": "execute_result"
    }
   ],
   "source": [
    "tv = TfidfVectorizer(ngram_range=(1, 2), stop_words='english', min_df=.00001, max_df=.9)\n",
    "tv.fit(df.reviewText)"
   ]
  },
  {
   "cell_type": "code",
   "execution_count": 9,
   "metadata": {},
   "outputs": [
    {
     "data": {
      "image/png": "[encoded data removed]",
      "text/plain": [
       "<matplotlib.figure.Figure at 0x7fa29394b9e8>"
      ]
     },
     "metadata": {},
     "output_type": "display_data"
    }
   ],
   "source": [
    "df['reviewText'] = df.reviewText.str.lower()\n",
    "df['review_length'] = df.reviewText.apply(len)\n",
    "def match_string(keystring, desc):\n",
    "    result = 0\n",
    "    if keystring in desc:\n",
    "        result = 1\n",
    "    return result\n",
    "df['helpful_clicks'] = df.helpful.apply(lambda x: x[1])\n",
    "def get_help_rating(helpful):\n",
    "    if helpful[1] == 0:\n",
    "        return 0\n",
    "    elif helpful[1] > 0:\n",
    "        return helpful[0]/helpful[1]\n",
    "df['helpful_rating'] = df.helpful.apply(get_help_rating)\n",
    "df['summary_length'] = df.summary.apply(len)\n",
    "\n",
    "df.review_length.hist(bins=100)\n",
    "plt.show();"
   ]
  },
  {
   "cell_type": "code",
   "execution_count": 10,
   "metadata": {},
   "outputs": [
    {
     "data": {
      "text/plain": [
       "<231780x1192329 sparse matrix of type '<class 'numpy.float64'>'\n",
       "\twith 30091877 stored elements in Compressed Sparse Row format>"
      ]
     },
     "execution_count": 10,
     "metadata": {},
     "output_type": "execute_result"
    }
   ],
   "source": [
    "features = tv.transform(df.reviewText)\n",
    "features"
   ]
  },
  {
   "cell_type": "code",
   "execution_count": 11,
   "metadata": {
    "collapsed": true
   },
   "outputs": [],
   "source": [
    "cutoff = int(.8 * len(df))\n",
    "\n",
    "ft = [\n",
    "    'review_length',\n",
    "    'helpful_clicks',\n",
    "    'helpful_rating',\n",
    "    'summary_length'\n",
    "]\n",
    "\n",
    "\n",
    "train = df[:cutoff]\n",
    "ft_train = scipy.sparse.hstack((features[:cutoff], np.array(df[ft][:cutoff])))\n",
    "\n",
    "test = df[cutoff:]\n",
    "ft_test = scipy.sparse.hstack((features[cutoff:], np.array(df[ft][cutoff:])))\n",
    "\n",
    "\n",
    "Y_train = train.pos\n",
    "Y_test = test.pos"
   ]
  },
  {
   "cell_type": "code",
   "execution_count": 12,
   "metadata": {},
   "outputs": [
    {
     "data": {
      "text/plain": [
       "<46356x1192333 sparse matrix of type '<class 'numpy.float64'>'\n",
       "\twith 6174739 stored elements in COOrdinate format>"
      ]
     },
     "execution_count": 12,
     "metadata": {},
     "output_type": "execute_result"
    }
   ],
   "source": [
    "ft_test"
   ]
  },
  {
   "cell_type": "code",
   "execution_count": 13,
   "metadata": {},
   "outputs": [
    {
     "ename": "KeyboardInterrupt",
     "evalue": "",
     "output_type": "error",
     "traceback": [
      "\u001b[0;31m---------------------------------------------------------------------------\u001b[0m",
      "\u001b[0;31mKeyboardInterrupt\u001b[0m                         Traceback (most recent call last)",
      "\u001b[0;32m<ipython-input-13-a161935bbdc2>\u001b[0m in \u001b[0;36m<module>\u001b[0;34m()\u001b[0m\n\u001b[1;32m     14\u001b[0m \u001b[0mplst\u001b[0m \u001b[0;34m=\u001b[0m \u001b[0mparam\u001b[0m\u001b[0;34m.\u001b[0m\u001b[0mitems\u001b[0m\u001b[0;34m(\u001b[0m\u001b[0;34m)\u001b[0m\u001b[0;34m\u001b[0m\u001b[0m\n\u001b[1;32m     15\u001b[0m \u001b[0mnum_round\u001b[0m \u001b[0;34m=\u001b[0m \u001b[0;36m500\u001b[0m\u001b[0;34m\u001b[0m\u001b[0m\n\u001b[0;32m---> 16\u001b[0;31m \u001b[0mbst\u001b[0m \u001b[0;34m=\u001b[0m \u001b[0mxgb\u001b[0m\u001b[0;34m.\u001b[0m\u001b[0mtrain\u001b[0m\u001b[0;34m(\u001b[0m\u001b[0mplst\u001b[0m\u001b[0;34m,\u001b[0m \u001b[0mdtrain\u001b[0m\u001b[0;34m,\u001b[0m \u001b[0mnum_round\u001b[0m\u001b[0;34m)\u001b[0m\u001b[0;34m\u001b[0m\u001b[0m\n\u001b[0m\u001b[1;32m     17\u001b[0m \u001b[0;34m\u001b[0m\u001b[0m\n\u001b[1;32m     18\u001b[0m \u001b[0mY_\u001b[0m \u001b[0;34m=\u001b[0m \u001b[0mnp\u001b[0m\u001b[0;34m.\u001b[0m\u001b[0mwhere\u001b[0m\u001b[0;34m(\u001b[0m\u001b[0mbst\u001b[0m\u001b[0;34m.\u001b[0m\u001b[0mpredict\u001b[0m\u001b[0;34m(\u001b[0m\u001b[0mdtrain\u001b[0m\u001b[0;34m)\u001b[0m\u001b[0;34m>\u001b[0m\u001b[0;36m.5\u001b[0m\u001b[0;34m,\u001b[0m \u001b[0;36m1\u001b[0m\u001b[0;34m,\u001b[0m \u001b[0;36m0\u001b[0m\u001b[0;34m)\u001b[0m\u001b[0;34m\u001b[0m\u001b[0m\n",
      "\u001b[0;32m~/anaconda3/envs/dspy3/lib/python3.6/site-packages/xgboost/training.py\u001b[0m in \u001b[0;36mtrain\u001b[0;34m(params, dtrain, num_boost_round, evals, obj, feval, maximize, early_stopping_rounds, evals_result, verbose_eval, learning_rates, xgb_model, callbacks)\u001b[0m\n\u001b[1;32m    203\u001b[0m                            \u001b[0mevals\u001b[0m\u001b[0;34m=\u001b[0m\u001b[0mevals\u001b[0m\u001b[0;34m,\u001b[0m\u001b[0;34m\u001b[0m\u001b[0m\n\u001b[1;32m    204\u001b[0m                            \u001b[0mobj\u001b[0m\u001b[0;34m=\u001b[0m\u001b[0mobj\u001b[0m\u001b[0;34m,\u001b[0m \u001b[0mfeval\u001b[0m\u001b[0;34m=\u001b[0m\u001b[0mfeval\u001b[0m\u001b[0;34m,\u001b[0m\u001b[0;34m\u001b[0m\u001b[0m\n\u001b[0;32m--> 205\u001b[0;31m                            xgb_model=xgb_model, callbacks=callbacks)\n\u001b[0m\u001b[1;32m    206\u001b[0m \u001b[0;34m\u001b[0m\u001b[0m\n\u001b[1;32m    207\u001b[0m \u001b[0;34m\u001b[0m\u001b[0m\n",
      "\u001b[0;32m~/anaconda3/envs/dspy3/lib/python3.6/site-packages/xgboost/training.py\u001b[0m in \u001b[0;36m_train_internal\u001b[0;34m(params, dtrain, num_boost_round, evals, obj, feval, xgb_model, callbacks)\u001b[0m\n\u001b[1;32m     74\u001b[0m         \u001b[0;31m# Skip the first update if it is a recovery step.\u001b[0m\u001b[0;34m\u001b[0m\u001b[0;34m\u001b[0m\u001b[0m\n\u001b[1;32m     75\u001b[0m         \u001b[0;32mif\u001b[0m \u001b[0mversion\u001b[0m \u001b[0;34m%\u001b[0m \u001b[0;36m2\u001b[0m \u001b[0;34m==\u001b[0m \u001b[0;36m0\u001b[0m\u001b[0;34m:\u001b[0m\u001b[0;34m\u001b[0m\u001b[0m\n\u001b[0;32m---> 76\u001b[0;31m             \u001b[0mbst\u001b[0m\u001b[0;34m.\u001b[0m\u001b[0mupdate\u001b[0m\u001b[0;34m(\u001b[0m\u001b[0mdtrain\u001b[0m\u001b[0;34m,\u001b[0m \u001b[0mi\u001b[0m\u001b[0;34m,\u001b[0m \u001b[0mobj\u001b[0m\u001b[0;34m)\u001b[0m\u001b[0;34m\u001b[0m\u001b[0m\n\u001b[0m\u001b[1;32m     77\u001b[0m             \u001b[0mbst\u001b[0m\u001b[0;34m.\u001b[0m\u001b[0msave_rabit_checkpoint\u001b[0m\u001b[0;34m(\u001b[0m\u001b[0;34m)\u001b[0m\u001b[0;34m\u001b[0m\u001b[0m\n\u001b[1;32m     78\u001b[0m             \u001b[0mversion\u001b[0m \u001b[0;34m+=\u001b[0m \u001b[0;36m1\u001b[0m\u001b[0;34m\u001b[0m\u001b[0m\n",
      "\u001b[0;32m~/anaconda3/envs/dspy3/lib/python3.6/site-packages/xgboost/core.py\u001b[0m in \u001b[0;36mupdate\u001b[0;34m(self, dtrain, iteration, fobj)\u001b[0m\n\u001b[1;32m    804\u001b[0m \u001b[0;34m\u001b[0m\u001b[0m\n\u001b[1;32m    805\u001b[0m         \u001b[0;32mif\u001b[0m \u001b[0mfobj\u001b[0m \u001b[0;32mis\u001b[0m \u001b[0;32mNone\u001b[0m\u001b[0;34m:\u001b[0m\u001b[0;34m\u001b[0m\u001b[0m\n\u001b[0;32m--> 806\u001b[0;31m             \u001b[0m_check_call\u001b[0m\u001b[0;34m(\u001b[0m\u001b[0m_LIB\u001b[0m\u001b[0;34m.\u001b[0m\u001b[0mXGBoosterUpdateOneIter\u001b[0m\u001b[0;34m(\u001b[0m\u001b[0mself\u001b[0m\u001b[0;34m.\u001b[0m\u001b[0mhandle\u001b[0m\u001b[0;34m,\u001b[0m \u001b[0miteration\u001b[0m\u001b[0;34m,\u001b[0m \u001b[0mdtrain\u001b[0m\u001b[0;34m.\u001b[0m\u001b[0mhandle\u001b[0m\u001b[0;34m)\u001b[0m\u001b[0;34m)\u001b[0m\u001b[0;34m\u001b[0m\u001b[0m\n\u001b[0m\u001b[1;32m    807\u001b[0m         \u001b[0;32melse\u001b[0m\u001b[0;34m:\u001b[0m\u001b[0;34m\u001b[0m\u001b[0m\n\u001b[1;32m    808\u001b[0m             \u001b[0mpred\u001b[0m \u001b[0;34m=\u001b[0m \u001b[0mself\u001b[0m\u001b[0;34m.\u001b[0m\u001b[0mpredict\u001b[0m\u001b[0;34m(\u001b[0m\u001b[0mdtrain\u001b[0m\u001b[0;34m)\u001b[0m\u001b[0;34m\u001b[0m\u001b[0m\n",
      "\u001b[0;31mKeyboardInterrupt\u001b[0m: "
     ]
    }
   ],
   "source": [
    "dtrain = xgb.DMatrix(ft_train, label=Y_train)\n",
    "dtest = xgb.DMatrix(ft_test, label=Y_test)\n",
    "param = {\n",
    "    'max_depth': 7, \n",
    "    'eta': 1, \n",
    "    'silent': 0, \n",
    "    'objective': \n",
    "    'binary:logistic', \n",
    "    'scale_pos_weight': (class_imb),\n",
    "    'nthread':4,\n",
    "    'eval_metric':'auc'\n",
    "}\n",
    "\n",
    "plst = param.items()\n",
    "num_round = 500\n",
    "bst = xgb.train(plst, dtrain, num_round)\n",
    "\n",
    "Y_ = np.where(bst.predict(dtrain)>.5, 1, 0)\n",
    "tb = pd.crosstab(Y_, Y_train)\n",
    "print(tb)\n",
    "print((tb.iloc[0, 0]+tb.iloc[1, 1])/tb.sum().sum())\n",
    "\n",
    "Y_ = np.where(bst.predict(dtest)>.5, 1, 0)\n",
    "tb = pd.crosstab(Y_, Y_test)\n",
    "print(tb)\n",
    "print((tb.iloc[0, 0]+tb.iloc[1, 1])/tb.sum().sum())"
   ]
  },
  {
   "cell_type": "code",
   "execution_count": null,
   "metadata": {},
   "outputs": [],
   "source": [
    "dtrain = xgb.DMatrix(ft_train, label=Y_train)\n",
    "dtest = xgb.DMatrix(ft_test, label=Y_test)\n",
    "param = {\n",
    "    'max_depth': 7, \n",
    "    'eta': 1, \n",
    "    'silent': 0, \n",
    "    'objective': \n",
    "    'binary:logistic', \n",
    "    'scale_pos_weight': (class_imb),\n",
    "    'nthread':4,\n",
    "    'eval_metric':'auc'\n",
    "}\n",
    "\n",
    "plst = param.items()\n",
    "num_round = 1000\n",
    "bst = xgb.train(plst, dtrain, num_round)\n",
    "\n",
    "Y_ = np.where(bst.predict(dtrain)>.5, 1, 0)\n",
    "tb = pd.crosstab(Y_, Y_train)\n",
    "print(tb)\n",
    "print((tb.iloc[0, 0]+tb.iloc[1, 1])/tb.sum().sum())\n",
    "\n",
    "Y_ = np.where(bst.predict(dtest)>.5, 1, 0)\n",
    "tb = pd.crosstab(Y_, Y_test)\n",
    "print(tb)\n",
    "print((tb.iloc[0, 0]+tb.iloc[1, 1])/tb.sum().sum())"
   ]
  },
  {
   "cell_type": "code",
   "execution_count": 16,
   "metadata": {},
   "outputs": [
    {
     "data": {
      "text/plain": [
       "0.87677970489257051"
      ]
     },
     "execution_count": 16,
     "metadata": {},
     "output_type": "execute_result"
    }
   ],
   "source": []
  },
  {
   "cell_type": "code",
   "execution_count": null,
   "metadata": {
    "collapsed": true
   },
   "outputs": [],
   "source": [
    "def print_model_results(dpth=3, eta=.1, n_estimators=100, cst=1):\n",
    "    dtrain = xgb.DMatrix(ft_train, label=Y_train)\n",
    "    dtest = xgb.DMatrix(ft_test, label=Y_test)\n",
    "    param = {\n",
    "        'max_depth': dpth, \n",
    "        'eta': eta, \n",
    "        'silent': 0,\n",
    "        'objective' : 'binary:logistic', \n",
    "        'scale_pos_weight': (class_imb),\n",
    "        'nthread':4,\n",
    "        'eval_metric':'auc',\n",
    "        'colsample_bytree': cst\n",
    "    }\n",
    "\n",
    "    plst = param.items()\n",
    "    num_round = n_estimators\n",
    "    bst = xgb.train(plst, dtrain, num_round)\n",
    "\n",
    "    Y_ = np.where(bst.predict(dtrain)>.5, 1, 0)\n",
    "    tb = pd.crosstab(Y_, Y_train)\n",
    "    print(tb)\n",
    "    print((tb.iloc[0, 0]+tb.iloc[1, 1])/tb.sum().sum())\n",
    "\n",
    "    Y_ = np.where(bst.predict(dtest)>.5, 1, 0)\n",
    "    tb = pd.crosstab(Y_, Y_test)\n",
    "    print(tb)\n",
    "    print((tb.iloc[0, 0]+tb.iloc[1, 1])/tb.sum().sum())\n",
    "    \n",
    "print_model_results(n_estimators=1000, eta=.2, dpth=6, cst=1)"
   ]
  },
  {
   "cell_type": "code",
   "execution_count": null,
   "metadata": {
    "collapsed": true
   },
   "outputs": [],
   "source": [
    "def record_model_results(results, dpth=3, eta=.1, n_estimators=100, cst=1):\n",
    "    dtrain = xgb.DMatrix(ft_train, label=Y_train)\n",
    "    dtest = xgb.DMatrix(ft_test, label=Y_test)\n",
    "    param = {\n",
    "        'max_depth': dpth, \n",
    "        'eta': eta, \n",
    "        'silent': 0,\n",
    "        'objective' : 'binary:logistic', \n",
    "        'scale_pos_weight': (class_imb),\n",
    "        'nthread':4,\n",
    "        'eval_metric':'auc',\n",
    "        'colsample_bytree': cst\n",
    "    }\n",
    "\n",
    "    plst = param.items()\n",
    "    num_round = n_estimators\n",
    "    bst = xgb.train(plst, dtrain, num_round)\n",
    "\n",
    "    Y_tr = np.where(bst.predict(dtrain)>.5, 1, 0)\n",
    "    tb_train = pd.crosstab(Y_tr, Y_train)\n",
    "\n",
    "    Y_te = np.where(bst.predict(dtest)>.5, 1, 0)\n",
    "    tb_test = pd.crosstab(Y_te, Y_test)\n",
    "    next_row = pd.DataFrame(columns=results.columns, index=[len(results)])\n",
    "    next_row['n_estimators'] = num_round\n",
    "    next_row['params'] = [param]\n",
    "    if len(tb_train) == 2:\n",
    "        next_row['train_tab'] = [tb_train]\n",
    "        next_row['train_acc'] = (tb_train.iloc[0, 0]+tb_train.iloc[1, 1])/tb_train.sum().sum()\n",
    "    else:\n",
    "        next_row['train_tab'] = [tb_train]\n",
    "        next_row['train_acc'] = tb_train.iloc[0, 1]/tb_train.sum()\n",
    "    if len(tb_test) == 2:\n",
    "        next_row['test_tab'] = [tb_test]\n",
    "        next_row['test_acc'] = (tb_test.iloc[0, 0]+tb_test.iloc[1, 1])/tb_test.sum().sum()\n",
    "    else:\n",
    "        next_row['test_tab'] = [tb_test]\n",
    "        next_row['test_acc'] = tb_test.iloc[0, 1]/tb_test.sum()\n",
    "    results = pd.concat([results, next_row], axis=0)\n",
    "    return results"
   ]
  },
  {
   "cell_type": "code",
   "execution_count": null,
   "metadata": {
    "collapsed": true
   },
   "outputs": [],
   "source": []
  },
  {
   "cell_type": "code",
   "execution_count": null,
   "metadata": {
    "collapsed": true
   },
   "outputs": [],
   "source": [
    "cols = [\n",
    "    'params',\n",
    "    'n_estimators',\n",
    "    'train_tab',\n",
    "    'train_acc',\n",
    "    'test_tab',\n",
    "    'test_acc'\n",
    "]\n",
    "\n",
    "results = pd.DataFrame(columns=cols)"
   ]
  },
  {
   "cell_type": "code",
   "execution_count": null,
   "metadata": {
    "collapsed": true
   },
   "outputs": [],
   "source": [
    "itt = 0\n",
    "while itt < 1:\n",
    "    n = 1000\n",
    "    eta = np.random.random_sample()\n",
    "    dp = int(np.random.random_sample()*30)\n",
    "    cst = (np.random.random_sample() * (.7)) + .3\n",
    "    itt += 1\n",
    "    cst = cst/10\n",
    "    results = record_model_results(results, dpth=dp, eta=eta, n_estimators=n, cst=cst)\n",
    "    print('round number: ', itt)\n",
    "    print('test accuracy: ', results.iloc[-1].test_acc)"
   ]
  },
  {
   "cell_type": "code",
   "execution_count": null,
   "metadata": {
    "collapsed": true
   },
   "outputs": [],
   "source": [
    "results.loc[results.test_acc.idxmax()].test_acc"
   ]
  },
  {
   "cell_type": "code",
   "execution_count": null,
   "metadata": {
    "collapsed": true
   },
   "outputs": [],
   "source": [
    "cvc = cross_val_score()"
   ]
  },
  {
   "cell_type": "code",
   "execution_count": null,
   "metadata": {
    "collapsed": true
   },
   "outputs": [],
   "source": []
  },
  {
   "cell_type": "code",
   "execution_count": null,
   "metadata": {
    "collapsed": true
   },
   "outputs": [],
   "source": []
  }
 ],
 "metadata": {
  "kernelspec": {
   "display_name": "Environment (conda_dspy3)",
   "language": "python",
   "name": "conda_dspy3"
  },
  "language_info": {
   "codemirror_mode": {
    "name": "ipython",
    "version": 3
   },
   "file_extension": ".py",
   "mimetype": "text/x-python",
   "name": "python",
   "nbconvert_exporter": "python",
   "pygments_lexer": "ipython3",
   "version": "3.6.2"
  }
 },
 "nbformat": 4,
 "nbformat_minor": 2
}
